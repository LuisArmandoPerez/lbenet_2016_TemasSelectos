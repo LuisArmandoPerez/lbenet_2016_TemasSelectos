{
 "cells": [
  {
   "cell_type": "markdown",
   "metadata": {},
   "source": [
    "#Introducción a *git*"
   ]
  },
  {
   "cell_type": "markdown",
   "metadata": {},
   "source": [
    "##¿Qué es *git*?"
   ]
  },
  {
   "cell_type": "markdown",
   "metadata": {},
   "source": [
    "'git' es un sistema controlador de versiones.\n",
    "\n",
    "- es una herramienta que permite tener acceso al historial completo de un proyecto.\n",
    "- de uso *local* pero se puede subir a internet.\n",
    "- es una herramienta colaborativa. [liga a Github](www.github.com)"
   ]
  },
  {
   "cell_type": "markdown",
   "metadata": {},
   "source": [
    "`sudo apt-get install git -all`"
   ]
  },
  {
   "cell_type": "markdown",
   "metadata": {},
   "source": [
    "**Ejercicio** Obtener una cuenta en GitHub y mandar el usaurio por email."
   ]
  },
  {
   "cell_type": "markdown",
   "metadata": {},
   "source": [
    "Lo siguiente es algo útil cuando se utiliza [Julia](https://julialang.org): Al empezar una instrucción con ; eso equivale a escapar a la terminal. "
   ]
  },
  {
   "cell_type": "code",
   "execution_count": null,
   "metadata": {
    "collapsed": true
   },
   "outputs": [],
   "source": [
    "; ls"
   ]
  },
  {
   "cell_type": "markdown",
   "metadata": {
    "collapsed": true
   },
   "source": [
    "Empezamos por crear un *repositorio* con \n",
    "\n",
    "``` git init ``` "
   ]
  },
  {
   "cell_type": "markdown",
   "metadata": {},
   "source": [
    "Si quiero saber el estado del repositiorio tengo que hacer :\n",
    "\n",
    "```git status```"
   ]
  },
  {
   "cell_type": "markdown",
   "metadata": {},
   "source": [
    " Ahora quiero que el nuevo directorio sea algo que *git* siga. i.e. Que note los cambios que aparecen.\n",
    " \n",
    " Para que `git` siga los cambios le debo decir que directorio seguir y luego debo tomar \"foto\" en el sentido de guardar los cambios a cierto instante de tiempo $t$.\n",
    " \n",
    " \n",
    " "
   ]
  },
  {
   "cell_type": "code",
   "execution_count": null,
   "metadata": {
    "collapsed": true
   },
   "outputs": [],
   "source": []
  }
 ],
 "metadata": {
  "kernelspec": {
   "display_name": "Julia 0.4.0-dev",
   "language": "julia",
   "name": "julia 0.4"
  }
 },
 "nbformat": 4,
 "nbformat_minor": 0
}
